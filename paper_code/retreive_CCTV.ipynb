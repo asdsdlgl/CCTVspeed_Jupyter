{
 "cells": [
  {
   "cell_type": "markdown",
   "metadata": {},
   "source": [
    "Import package\n",
    "取得CCTV的影片"
   ]
  },
  {
   "cell_type": "code",
   "execution_count": 1,
   "metadata": {
    "scrolled": false
   },
   "outputs": [],
   "source": [
    "# -*- coding: utf-8 -*-\n",
    "import requests\n",
    "import os\n",
    "import eventlet\n",
    "import time\n",
    "from datetime import datetime\n",
    "from datetime import timedelta\n",
    "import threading"
   ]
  },
  {
   "cell_type": "markdown",
   "metadata": {},
   "source": [
    "Basic setting\n",
    "D/CCTV檔案要先建好"
   ]
  },
  {
   "cell_type": "code",
   "execution_count": 2,
   "metadata": {},
   "outputs": [],
   "source": [
    "eventlet.monkey_patch()\n",
    "DBType = 'cctv_value'\n",
    "path = 'D:/cctv/'\n",
    "amount = 512\n",
    "os.chdir(path)"
   ]
  },
  {
   "cell_type": "markdown",
   "metadata": {},
   "source": [
    "Define retrieve function for Thread to implement\n",
    "request URL，因為流量限制，抓取至多20s，Timeout就跳出"
   ]
  },
  {
   "cell_type": "code",
   "execution_count": null,
   "metadata": {},
   "outputs": [],
   "source": [
    "def retrieve(cctv_Id, URL):\n",
    "    fd = open(cctv_Id + '/' + dstr + '_' + HMstr, 'wb')\n",
    "    try:\n",
    "        with eventlet.Timeout(20):\n",
    "            r = requests.get(URL, stream=True)\n",
    "            for chunk in r.iter_content(amount):\n",
    "                fd.write(chunk)\n",
    "    except:\n",
    "        pass\n",
    "    finally:\n",
    "        fd.close()"
   ]
  },
  {
   "cell_type": "markdown",
   "metadata": {},
   "source": [
    "14隻CCTV名稱與對應網址"
   ]
  },
  {
   "cell_type": "code",
   "execution_count": null,
   "metadata": {},
   "outputs": [],
   "source": [
    "cctvs = ['nfbCCTV-N5-N-16.915-M', 'nfbCCTV-N5-N-18.308-M', 'nfbCCTV-N5-N-19.707-M', 'nfbCCTV-N5-N-21.056-M',\n",
    "         'nfbCCTV-N5-N-22.514-M', 'nfbCCTV-N5-N-23.921-M', 'nfbCCTV-N5-N-25.309-M',\n",
    "         'nfbCCTV-N5-S-16.892-M', 'nfbCCTV-N5-S-18.339-M', 'nfbCCTV-N5-S-19.7-M', 'nfbCCTV-N5-S-21.048-M',\n",
    "         'nfbCCTV-N5-S-22.493-M', 'nfbCCTV-N5-S-23.896-M', 'nfbCCTV-N5-S-25.298-M']\n",
    "\n",
    "urls = ['http://202.39.180.202:8081/mjpeg/X01001510210401', 'http://202.39.180.202:8081/mjpeg/X01001510210601',\n",
    "        'http://202.39.180.202:8081/mjpeg/X01001510211101', 'http://202.39.180.202:8081/mjpeg/X01001510211301',\n",
    "        'http://202.39.180.202:8081/mjpeg/X01001510211501', 'http://202.39.180.202:8081/mjpeg/X01001510212001',\n",
    "        'http://202.39.180.202:8081/mjpeg/X01001510212201',\n",
    "        'http://202.39.180.202:8081/mjpeg/X01001510210101', 'http://202.39.180.202:8081/mjpeg/X01001510210301',\n",
    "        'http://202.39.180.202:8081/mjpeg/X01001510210701', 'http://202.39.180.202:8081/mjpeg/X01001510210801',\n",
    "        'http://202.39.180.202:8081/mjpeg/X01001510211001', 'http://202.39.180.202:8081/mjpeg/X01001510211601',\n",
    "        'http://202.39.180.202:8081/mjpeg/X01001510211701']"
   ]
  },
  {
   "cell_type": "markdown",
   "metadata": {},
   "source": [
    "設定第一次抓取的時間\n",
    "跑 num_of_days 天\n",
    "(datetime.now() + timedelta(seconds=(20 - datetime.now().second)) 結果一定是 xx:xx:20 (設定為最近時間的20秒)"
   ]
  },
  {
   "cell_type": "code",
   "execution_count": null,
   "metadata": {},
   "outputs": [],
   "source": [
    "if datetime.now().second < 20:\n",
    "    time0 = (datetime.now() + timedelta(seconds=(20 - datetime.now().second))).replace(microsecond=0)\n",
    "else:\n",
    "    time0 = (datetime.now() + timedelta(seconds=(80 - datetime.now().second))).replace(microsecond=0)\n",
    "time1 = time0\n",
    "num_of_days = 30\n",
    "\n",
    "for Id in cctvs:\n",
    "    if not os.path.exists(Id):\n",
    "        os.makedirs(Id)"
   ]
  },
  {
   "cell_type": "markdown",
   "metadata": {},
   "source": [
    "電腦秒數為20時抓一次CCTV\n",
    "datetime.now()為當前電腦時間\n",
    "(datetime.now() + timedelta(seconds=(20 - datetime.now().second)) 結果一定是 xx:xx:20 (設定為最近時間的20秒)\n",
    "因為有多個cctv要在同時間去索取影片，因此建立thread來索取"
   ]
  },
  {
   "cell_type": "code",
   "execution_count": null,
   "metadata": {},
   "outputs": [],
   "source": [
    "while (time1 - time0).total_seconds() / 3600 / 24 <= num_of_days:\n",
    "    if datetime.now().replace(microsecond=0) == time1:\n",
    "        try:\n",
    "            dstr = time1.strftime(\"%Y%m%d\")\n",
    "            HMstr = time1.strftime(\"%H%M%S\")\n",
    "            print(datetime.now().strftime(\"%Y%m%d %H%M%S\"))\n",
    "            threads = []\n",
    "            for i in range(len(cctvs)):\n",
    "                threads.append(threading.Thread(target=retrieve, args=(cctvs[i], urls[i])))\n",
    "                threads[i].start()\n",
    "            for i in range(len(cctvs)):\n",
    "                threads[i].join()\n",
    "            time1 = time1 + timedelta(minutes=1)\n",
    "        except:\n",
    "            time.sleep(10)\n",
    "            if datetime.now().second < 20:\n",
    "                time1 = (datetime.now() + timedelta(seconds=(20 - datetime.now().second))).replace(microsecond=0)\n",
    "            else:\n",
    "                time1 = (datetime.now() + timedelta(seconds=(80 - datetime.now().second))).replace(microsecond=0)\n",
    "\n"
   ]
  },
  {
   "cell_type": "code",
   "execution_count": null,
   "metadata": {},
   "outputs": [],
   "source": []
  }
 ],
 "metadata": {
  "kernelspec": {
   "display_name": "Python 3",
   "language": "python",
   "name": "python3"
  },
  "language_info": {
   "codemirror_mode": {
    "name": "ipython",
    "version": 3
   },
   "file_extension": ".py",
   "mimetype": "text/x-python",
   "name": "python",
   "nbconvert_exporter": "python",
   "pygments_lexer": "ipython3",
   "version": "3.7.1"
  }
 },
 "nbformat": 4,
 "nbformat_minor": 2
}
