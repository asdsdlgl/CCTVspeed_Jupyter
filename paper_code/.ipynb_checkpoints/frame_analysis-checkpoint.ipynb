{
 "cells": [
  {
   "cell_type": "markdown",
   "metadata": {},
   "source": [
    "Import Package<br>\n",
    "目的 : 分析CCTV<br>\n",
    "讀取frame_num.txt，分析frame數區間(以十個frame為區間)，儲存於frame_interval.txt(training 需使用)\n",
    "並會將frame數分布圖存在frame.png"
   ]
  },
  {
   "cell_type": "code",
   "execution_count": null,
   "metadata": {},
   "outputs": [],
   "source": [
    "import pandas as pd\n",
    "import numpy as np\n",
    "import matplotlib.pyplot as plt"
   ]
  },
  {
   "cell_type": "markdown",
   "metadata": {},
   "source": [
    "cctvs : 要分析的cctv，可自行調整"
   ]
  },
  {
   "cell_type": "code",
   "execution_count": null,
   "metadata": {},
   "outputs": [],
   "source": [
    "cctvs = ['nfbCCTV-N5-N-16.915-M', 'nfbCCTV-N5-N-18.308-M', 'nfbCCTV-N5-N-22.514-M', 'nfbCCTV-N5-N-25.309-M',\n",
    "         'nfbCCTV-N5-S-18.339-M', 'nfbCCTV-N5-S-19.7-M', 'nfbCCTV-N5-S-21.048-M', 'nfbCCTV-N5-S-23.896-M']\n",
    "cctvs = ['nfbCCTV-N5-S-21.048-M', 'nfbCCTV-N5-S-23.896-M', 'nfbCCTV-N5-N-25.309-M']"
   ]
  },
  {
   "cell_type": "markdown",
   "metadata": {},
   "source": []
  },
  {
   "cell_type": "code",
   "execution_count": null,
   "metadata": {},
   "outputs": [],
   "source": [
    "for cctv_Id in cctvs:\n",
    "    print(cctv_Id)\n",
    "    count = np.zeros(21)\n",
    "    cctvDir = 'E:/wcs/cctv/' + cctv_Id + \"/frame_num.txt\"\n",
    "    frame_df = pd.read_csv(cctvDir, infer_datetime_format=True, index_col=0, header=None)\n",
    "    frame_df.index = pd.to_datetime(frame_df.index) #從index 轉成 DatetimeIndex\n",
    "    for i in frame_df.values:\n",
    "        count[i//10] += 1\n",
    "    # for i in range(len(count)):\n",
    "    #     if count[i] > 1000:\n",
    "    #         count[i] = 0\n",
    "    file_name = 'E:/wcs/cctv/' + cctv_Id + \"/frame_interval.txt\"\n",
    "    open(file_name, 'w').close()\n",
    "    for i in count:\n",
    "        print(int(i), file=open(file_name, 'a'))\n",
    "    labels = [repr(i) for i in range(10, 211, 10)]\n",
    "    x = np.arange(len(count)) - 0.5\n",
    "    plt.figure(num=None, figsize=(60, 25))\n",
    "    plt.bar(x, count, width=0.7)\n",
    "    plt.xticks(x + 0.5, labels)\n",
    "    plt.tight_layout()\n",
    "    plt.grid()\n",
    "    plt.tick_params(labelsize=45)\n",
    "    plt.tight_layout()\n",
    "    plt.savefig('E:/wcs/cctv/' + cctv_Id + '/frame.png')\n",
    "    # plt.show()"
   ]
  },
  {
   "cell_type": "code",
   "execution_count": null,
   "metadata": {},
   "outputs": [],
   "source": []
  },
  {
   "cell_type": "code",
   "execution_count": null,
   "metadata": {},
   "outputs": [],
   "source": []
  }
 ],
 "metadata": {
  "kernelspec": {
   "display_name": "Python 3",
   "language": "python",
   "name": "python3"
  },
  "language_info": {
   "codemirror_mode": {
    "name": "ipython",
    "version": 3
   },
   "file_extension": ".py",
   "mimetype": "text/x-python",
   "name": "python",
   "nbconvert_exporter": "python",
   "pygments_lexer": "ipython3",
   "version": "3.7.1"
  }
 },
 "nbformat": 4,
 "nbformat_minor": 2
}
