{
 "cells": [
  {
   "cell_type": "markdown",
   "metadata": {},
   "source": [
    "Import package\n",
    "CCTV的前處理\n",
    "(!pip install opencv-python)"
   ]
  },
  {
   "cell_type": "code",
   "execution_count": 5,
   "metadata": {},
   "outputs": [],
   "source": [
    "import numpy as np\n",
    "import cv2\n",
    "from datetime import datetime, timedelta\n",
    "import os, threading"
   ]
  },
  {
   "cell_type": "markdown",
   "metadata": {},
   "source": [
    "Define read2frame\n",
    "目的 : 將圖片xy的0.3 並轉成灰階，同時計算frame的數量\n",
    "return值為一四維的np.array，(數量,X,Y,channel)\n",
    "因為每讀到一楨frame，f就append，也因此function的return值是四維\n",
    "同時len(f)也就是其frame的數量\n",
    "另外，因為轉成灰階，其channel為1，原本灰階圖片的np.array是(x,y)，而非灰階維(x,y,channel=3)\n",
    "因為要丟進model train，其convolution的參數要為4維(看document)\n",
    "也因此，多加一維變成(x,y,channel=1)"
   ]
  },
  {
   "cell_type": "code",
   "execution_count": 6,
   "metadata": {},
   "outputs": [],
   "source": [
    "def read2frame(v):\n",
    "    resize_rate = 0.3\n",
    "    f = []\n",
    "    t = []\n",
    "    cap = cv2.VideoCapture(v)\n",
    "    ret, frame = cap.read()\n",
    "    count = 1\n",
    "    while ret:\n",
    "        try:\n",
    "            ret, frame = cap.read()\n",
    "            if not ret:\n",
    "                break\n",
    "            # count += 1\n",
    "            # if count % 2 == 0:\n",
    "            #     continue\n",
    "            frame = cv2.cvtColor(frame, cv2.COLOR_BGR2GRAY)\n",
    "            # frame = cv2.equalizeHist(frame)\n",
    "            # ret, frame = cv2.threshold(frame, 127, 255, cv2.THRESH_BINARY)\n",
    "            # t.append(frame[190:203, 322:335])\n",
    "            # ff = (ff - ff.mean()) / ff.std()\n",
    "            frame = cv2.resize(frame, (0, 0), fx=resize_rate, fy=resize_rate)\n",
    "            # if len(f) < frame_num:\n",
    "                # if c == 'nfbCCTV-N5-S-21.048-M':\n",
    "                #     frame = frame[int(np.shape(frame)[0] * (2 / 11)):, int(np.shape(frame)[1] * (2 / 7)):]\n",
    "                # elif c == 'nfbCCTV-N5-S-23.896-M':\n",
    "                #     frame = frame[int(np.shape(frame)[1] * (1 / 13)):, int(np.shape(frame)[1] * (2 / 11)):]\n",
    "                # else:\n",
    "                #     frame = frame[int(np.shape(frame)[0] * (2 / 7)):, int(np.shape(frame)[1] * (2 / 13)):]\n",
    "            f.append(frame)\n",
    "\n",
    "            # else:\n",
    "            #     break\n",
    "        except:\n",
    "            pass\n",
    "    # back = np.zeros_like(f[0])\n",
    "    # back2 = np.zeros_like(t[0])\n",
    "    # print(count)\n",
    "    # if count < 180:\n",
    "    #     return None\n",
    "    # while len(f) < frame_num:\n",
    "    #     f.append(back)\n",
    "    #     t.append(back2)\n",
    "    # print(np.shape(f))\n",
    "    cap.release()\n",
    "    cv2.destroyAllWindows() #非灰階圖片有三個channel (x,y,3) 威接圖片維兩個維度(x,y)\n",
    "    return np.expand_dims(f, axis=4) #===============必須要轉成4個維度，因為轉成灰階後會少了ｃｈａｎｎｅｌ\n",
    "#===============================================所以4個維度分別是(數量、frame的 x、y、以及1(channel的數量))\n"
   ]
  },
  {
   "cell_type": "markdown",
   "metadata": {},
   "source": [
    "cctvs : 要前處理的CCTVs，可自行調整"
   ]
  },
  {
   "cell_type": "code",
   "execution_count": null,
   "metadata": {},
   "outputs": [],
   "source": [
    "cctvs = ['nfbCCTV-N5-N-16.915-M', 'nfbCCTV-N5-N-18.308-M', 'nfbCCTV-N5-N-19.707-M', 'nfbCCTV-N5-N-21.056-M',\n",
    "         'nfbCCTV-N5-N-22.514-M', 'nfbCCTV-N5-N-23.921-M', 'nfbCCTV-N5-N-25.309-M',\n",
    "         'nfbCCTV-N5-S-16.892-M', 'nfbCCTV-N5-S-18.339-M', 'nfbCCTV-N5-S-19.7-M', 'nfbCCTV-N5-S-21.048-M',\n",
    "         'nfbCCTV-N5-S-22.493-M', 'nfbCCTV-N5-S-23.896-M', 'nfbCCTV-N5-S-25.298-M']\n",
    "cctvs = ['nfbCCTV-N5-N-16.915-M', 'nfbCCTV-N5-N-18.308-M', 'nfbCCTV-N5-N-22.514-M', 'nfbCCTV-N5-N-25.309-M',\n",
    "         'nfbCCTV-N5-S-18.339-M', 'nfbCCTV-N5-S-19.7-M', 'nfbCCTV-N5-S-21.048-M', 'nfbCCTV-N5-S-23.896-M']\n",
    "cctvs = ['nfbCCTV-N5-S-21.048-M', 'nfbCCTV-N5-S-23.896-M', 'nfbCCTV-N5-N-25.309-M']\n",
    "# cctvs = ['nfbCCTV-N5-S-23.896-M']\n"
   ]
  },
  {
   "cell_type": "markdown",
   "metadata": {},
   "source": [
    "day1 : 起始日期\n",
    "dayLast : 結束日期\n",
    "dont_care_start ,dont_care_end : 不需要的時間區段 (目前維0600-2400)"
   ]
  },
  {
   "cell_type": "code",
   "execution_count": null,
   "metadata": {},
   "outputs": [],
   "source": [
    "day1 = datetime.strptime('20190729 0600', \"%Y%m%d %H%M\")\n",
    "dayLast = datetime.strptime('20190730 2359', \"%Y%m%d %H%M\")\n",
    "\n",
    "dont_care_start = datetime.strptime('0000', \"%H%M\")\n",
    "dont_care_end = datetime.strptime('0600', \"%H%M\")\n"
   ]
  },
  {
   "cell_type": "markdown",
   "metadata": {},
   "source": [
    "E:/wcs/cctv/的檔案路徑改為D:/wcs/cctv/(我設定的 學長預設E槽)"
   ]
  },
  {
   "cell_type": "code",
   "execution_count": null,
   "metadata": {},
   "outputs": [],
   "source": [
    "# frame_num = 90\n",
    "\n",
    "for cctv_Id in cctvs:\n",
    "    print(cctv_Id)\n",
    "    cctvDir = 'D:/cctv/' + cctv_Id + \"/\"\n",
    "    os.chdir(cctvDir)\n",
    "    if not os.path.exists(\"D:/wcs/cctv/\" + cctv_Id):\n",
    "        os.makedirs(\"D:/wcs/cctv/\" + cctv_Id)\n",
    "    day = day1\n",
    "    file_name = \"D:/wcs/cctv/\" + cctv_Id + \"/frame_num.txt\"\n",
    "    open(file_name, \"w\").close()\n",
    "    while day <= dayLast:\n",
    "        if not os.path.exists(day.strftime(\"%Y%m%d\") + \"_\" + day.strftime(\"%H%M\") + \"20\") \\\n",
    "                or dont_care_start.hour <= day.hour < dont_care_end.hour:\n",
    "            day += timedelta(minutes=1)\n",
    "            continue\n",
    "        frames = read2frame(day.strftime(\"%Y%m%d\") + \"_\" + day.strftime(\"%H%M\") + \"20\")\n",
    "        print(day)\n",
    "        print(day.strftime(\"%Y/%m/%d %H:%M:%S\") + \",\" + repr(len(frames)), file=open(file_name, 'a'))\n",
    "        if frames is not None and len(frames) > 1:\n",
    "            np.save('D:/wcs/cctv/' + cctv_Id + \"/\" + day.strftime(\"%Y%m%d\") + \"_\" + day.strftime(\"%H%M\"), frames)\n",
    "            # np.save('E:/wcs/cctv/' + cctv_Id + \"/\" + day.strftime(\"%Y%m%d\") + \"_\" + day.strftime(\"%H%M\") + \"_timestamp\", times)\n",
    "        day += timedelta(minutes=1)\n"
   ]
  },
  {
   "cell_type": "code",
   "execution_count": null,
   "metadata": {},
   "outputs": [],
   "source": []
  },
  {
   "cell_type": "code",
   "execution_count": null,
   "metadata": {},
   "outputs": [],
   "source": []
  },
  {
   "cell_type": "code",
   "execution_count": null,
   "metadata": {},
   "outputs": [],
   "source": []
  }
 ],
 "metadata": {
  "kernelspec": {
   "display_name": "Python 3",
   "language": "python",
   "name": "python3"
  },
  "language_info": {
   "codemirror_mode": {
    "name": "ipython",
    "version": 3
   },
   "file_extension": ".py",
   "mimetype": "text/x-python",
   "name": "python",
   "nbconvert_exporter": "python",
   "pygments_lexer": "ipython3",
   "version": "3.7.1"
  }
 },
 "nbformat": 4,
 "nbformat_minor": 2
}
