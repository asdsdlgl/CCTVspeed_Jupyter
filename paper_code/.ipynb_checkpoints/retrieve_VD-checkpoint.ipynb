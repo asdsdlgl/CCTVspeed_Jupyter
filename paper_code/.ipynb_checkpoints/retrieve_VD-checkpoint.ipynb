{
 "cells": [
  {
   "cell_type": "markdown",
   "metadata": {},
   "source": [
    "Import package"
   ]
  },
  {
   "cell_type": "code",
   "execution_count": 2,
   "metadata": {},
   "outputs": [],
   "source": [
    "# -*- coding: utf-8 -*-\n",
    "import os\n",
    "import gzip\n",
    "import xml.etree.ElementTree as ET\n",
    "import time\n",
    "import urllib.request\n",
    "from datetime import datetime\n",
    "from datetime import timedelta"
   ]
  },
  {
   "cell_type": "markdown",
   "metadata": {},
   "source": [
    "Basic setting\n",
    "gz/要先創好\n",
    "D/vd也是"
   ]
  },
  {
   "cell_type": "code",
   "execution_count": 3,
   "metadata": {},
   "outputs": [],
   "source": [
    "URLDir = 'http://tisvcloud.freeway.gov.tw/history/vd/'\n",
    "DBType = 'vd_value'\n",
    "LDir = 'gz/'\n",
    "path = 'D:/vd/'"
   ]
  },
  {
   "cell_type": "markdown",
   "metadata": {},
   "source": [
    "day1 : 起始日期\n",
    "num_of_days : 抓幾天的VD"
   ]
  },
  {
   "cell_type": "code",
   "execution_count": 4,
   "metadata": {},
   "outputs": [],
   "source": [
    "# ===================================改參數===================================\n",
    "day1 = datetime.strptime('20190611 0000', \"%Y%m%d %H%M\")\n",
    "day1 = datetime.strptime('20190322 0000', \"%Y%m%d %H%M\")\n",
    "num_of_days = 100"
   ]
  },
  {
   "cell_type": "markdown",
   "metadata": {},
   "source": [
    "cctvs : 要前處理的CCTVs，可自行調整\n",
    "vds   : 與cctv對應 共14個"
   ]
  },
  {
   "cell_type": "code",
   "execution_count": 5,
   "metadata": {},
   "outputs": [],
   "source": [
    "cctvs = ['nfbCCTV-N5-N-16.915-M', 'nfbCCTV-N5-N-18.308-M', 'nfbCCTV-N5-N-19.707-M', 'nfbCCTV-N5-N-21.056-M',\n",
    "         'nfbCCTV-N5-N-22.514-M', 'nfbCCTV-N5-N-23.921-M', 'nfbCCTV-N5-N-25.309-M',\n",
    "         'nfbCCTV-N5-S-16.892-M', 'nfbCCTV-N5-S-18.339-M', 'nfbCCTV-N5-S-19.7-M', 'nfbCCTV-N5-S-21.048-M',\n",
    "         'nfbCCTV-N5-S-22.493-M', 'nfbCCTV-N5-S-23.896-M', 'nfbCCTV-N5-S-25.298-M']\n",
    "cctvs = ['nfbCCTV-N5-S-21.048-M', 'nfbCCTV-N5-S-23.896-M', 'nfbCCTV-N5-N-25.309-M']\n",
    "vds = ['nfbVD-N5-N-16.900-M-PS', 'nfbVD-N5-N-18.313-M-PS', 'nfbVD-N5-N-19.689-M-PS', 'nfbVD-N5-N-21.055-M-PS',\n",
    "       'nfbVD-N5-N-22.510-M-PS', 'nfbVD-N5-N-23.911-M-PS', 'nfbVD-N5-N-25.310-M-PS',\n",
    "       'nfbVD-N5-S-16.902-M-PS', 'nfbVD-N5-S-18.312-M-PS', 'nfbVD-N5-S-19.677-M-PS', 'nfbVD-N5-S-21.063-M-PS',\n",
    "       'nfbVD-N5-S-22.506-M-PS', 'nfbVD-N5-S-23.910-M-PS', 'nfbVD-N5-S-25.312-M-PS']\n",
    "vds = ['nfbVD-N5-N-16.900-M-PS', 'nfbVD-N5-N-18.313-M-PS', 'nfbVD-N5-N-22.510-M-PS', 'nfbVD-N5-N-25.310-M-PS',\n",
    "       'nfbVD-N5-S-18.312-M-PS', 'nfbVD-N5-S-19.677-M-PS', 'nfbVD-N5-S-21.063-M-PS', 'nfbVD-N5-S-23.910-M-PS']\n",
    "vds = [\"nfbVD-N5-S-21.063-M-PS\", \"nfbVD-N5-S-23.910-M-PS\", \"nfbVD-N5-N-25.310-M-PS\"]"
   ]
  },
  {
   "cell_type": "markdown",
   "metadata": {},
   "source": [
    "抓取 0600-2400的VD"
   ]
  },
  {
   "cell_type": "code",
   "execution_count": null,
   "metadata": {},
   "outputs": [],
   "source": [
    "for vd_id in vds:\n",
    "    print(vd_id)\n",
    "    if not os.path.exists(path + vd_id):\n",
    "        os.makedirs(path + vd_id)\n",
    "    day = day1\n",
    "    vd_txt = \"\"\n",
    "    lane_list = []\n",
    "    while (day - day1).total_seconds() / 3600 / 24 < num_of_days:\n",
    "        if day.hour < 6:\n",
    "            day += timedelta(minutes=1)\n",
    "            continue\n",
    "        dstr = day.strftime(\"%Y%m%d\")\n",
    "        HMstr = day.strftime(\"%H%M\")\n",
    "        filename = DBType + '_' + HMstr + '.xml.gz'\n",
    "\n",
    "        URL = URLDir + dstr + '/' + filename\n",
    "        #print(URL)\n",
    "        try:\n",
    "            urllib.request.urlretrieve(URL, LDir + filename)\n",
    "            with gzip.open(LDir + filename, 'rb') as f:\n",
    "                try:\n",
    "                    file_content = f.read()\n",
    "                except OSError as e:\n",
    "                    print(e)\n",
    "                    day = day + timedelta(minutes=1)\n",
    "                    continue\n",
    "                try:\n",
    "                    root = ET.fromstring(file_content)\n",
    "                    updatetime = root.attrib['updatetime']\n",
    "                    interval = root.attrib['interval']\n",
    "\n",
    "                    for child in root:\n",
    "                        for grnd_child in child:\n",
    "                            if grnd_child.attrib['vdid'] == vd_id:\n",
    "                                status = grnd_child.attrib['status']\n",
    "                                datacollecttime = grnd_child.attrib['datacollecttime']\n",
    "                                lane_list.clear()\n",
    "                                for ggc in grnd_child:\n",
    "                                    vsrid = ggc.attrib['vsrid']\n",
    "                                    speed = ggc.attrib['speed']\n",
    "                                    laneoccupy = ggc.attrib['laneoccupy']\n",
    "                                    lane_list = lane_list + [vsrid, speed, laneoccupy]\n",
    "                                    for g3c in ggc:\n",
    "                                        carid = g3c.attrib['carid']\n",
    "                                        volume = g3c.attrib['volume']\n",
    "                                        lane_list = lane_list + [carid, volume]\n",
    "                                vd_txt = [datacollecttime, status] + lane_list\n",
    "                except ET.ParseError:\n",
    "                    print(URL + ' errors')\n",
    "            with open(path + vd_id + '/' + DBType + '_' + dstr + '.txt', 'a', encoding='utf-8') as fo:\n",
    "                fo.write('\\t'.join(vd_txt) + '\\n')\n",
    "            os.remove(LDir + filename)\n",
    "        # except urllib.error.HTTPError:\n",
    "        #     print(URL + ' retrival error')\n",
    "        except ConnectionResetError:\n",
    "            time.sleep(10)\n",
    "            continue\n",
    "        day = day + timedelta(minutes=1)\n",
    "        # if sleep_index == 100:\n",
    "        #     time.sleep(5)\n",
    "        #     sleep_index = 0\n",
    "        print(day)\n",
    "        time.sleep(0.2)\n"
   ]
  },
  {
   "cell_type": "code",
   "execution_count": null,
   "metadata": {},
   "outputs": [],
   "source": []
  },
  {
   "cell_type": "code",
   "execution_count": null,
   "metadata": {},
   "outputs": [],
   "source": []
  },
  {
   "cell_type": "code",
   "execution_count": null,
   "metadata": {},
   "outputs": [],
   "source": []
  }
 ],
 "metadata": {
  "kernelspec": {
   "display_name": "Python 3",
   "language": "python",
   "name": "python3"
  },
  "language_info": {
   "codemirror_mode": {
    "name": "ipython",
    "version": 3
   },
   "file_extension": ".py",
   "mimetype": "text/x-python",
   "name": "python",
   "nbconvert_exporter": "python",
   "pygments_lexer": "ipython3",
   "version": "3.7.1"
  }
 },
 "nbformat": 4,
 "nbformat_minor": 2
}
