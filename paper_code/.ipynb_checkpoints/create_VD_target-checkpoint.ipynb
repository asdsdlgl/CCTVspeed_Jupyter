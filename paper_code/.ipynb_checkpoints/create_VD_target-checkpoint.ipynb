{
 "cells": [
  {
   "cell_type": "markdown",
   "metadata": {},
   "source": [
    "Import package<br>\n",
    "取得VD真值"
   ]
  },
  {
   "cell_type": "code",
   "execution_count": 1,
   "metadata": {},
   "outputs": [],
   "source": [
    "import pandas as pd\n",
    "import os\n",
    "import numpy as np\n",
    "from datetime import datetime\n",
    "from datetime import timedelta\n",
    "import warnings\n",
    "warnings.filterwarnings(\"ignore\")"
   ]
  },
  {
   "cell_type": "markdown",
   "metadata": {},
   "source": [
    "VD、CCTV預設路徑"
   ]
  },
  {
   "cell_type": "code",
   "execution_count": 2,
   "metadata": {
    "code_folding": []
   },
   "outputs": [],
   "source": [
    "# vd_id = 'nfbVD-N3-S-1.730-M-LOOP'\n",
    "# vd_id = 'nfbVD-N5-N-16.900-M-PS'\n",
    "# vd_id = 'nfbVD-N5-S-21.063-M-PS'\n",
    "# vd_id = 'nfbVD-N5-S-23.910-M-PS'\n",
    "# vd_id = 'nfbVD-N5-N-25.310-M-PS'\n",
    "vds = ['nfbVD-N5-S-21.063-M-PS', 'nfbVD-N5-S-23.910-M-PS', 'nfbVD-N5-N-25.310-M-PS']\n",
    "vds = ['nfbVD-N5-N-16.900-M-PS', 'nfbVD-N5-N-18.313-M-PS', 'nfbVD-N5-N-22.510-M-PS', 'nfbVD-N5-N-25.310-M-PS',\n",
    "       'nfbVD-N5-S-18.312-M-PS', 'nfbVD-N5-S-19.677-M-PS', 'nfbVD-N5-S-21.063-M-PS', 'nfbVD-N5-S-23.910-M-PS']\n",
    "vds = [\"nfbVD-N5-S-21.063-M-PS\", \"nfbVD-N5-S-23.910-M-PS\", \"nfbVD-N5-N-25.310-M-PS\"]\n",
    "cctvs = ['nfbCCTV-N5-S-21.048-M', 'nfbCCTV-N5-S-23.896-M', 'nfbCCTV-N5-N-25.309-M']"
   ]
  },
  {
   "cell_type": "markdown",
   "metadata": {},
   "source": [
    "起始、結束時間設定(資料區間)"
   ]
  },
  {
   "cell_type": "code",
   "execution_count": 3,
   "metadata": {},
   "outputs": [],
   "source": [
    "day1 = datetime.strptime('20190728', \"%Y%m%d\")\n",
    "dayLast = datetime.strptime('20190729', \"%Y%m%d\")"
   ]
  },
  {
   "cell_type": "markdown",
   "metadata": {},
   "source": [
    "產生VD真值 : 會生成三種真值 Spd_Max、Spd_Min、Spd_Avg"
   ]
  },
  {
   "cell_type": "code",
   "execution_count": null,
   "metadata": {},
   "outputs": [],
   "source": [
    "for vd_id in vds:\n",
    "    vd_df = None\n",
    "    print(vd_id)\n",
    "    path = 'D:/vd/' + vd_id\n",
    "    os.chdir(path)\n",
    "    day = day1\n",
    "    while day <= dayLast:\n",
    "        print(\"vd_value_\" + day.strftime(\"%Y%m%d\"))\n",
    "        df = pd.read_csv(\"vd_value_\" + day.strftime(\"%Y%m%d\") + \".txt\", header=None, sep=\"\\t\", index_col=0)\n",
    "        lanes = 0\n",
    "        if len(df.columns) == 10:\n",
    "            print(\"1 Lane\")              #看總共幾道 每多一道 就多9個columns 然後取出Max_speed column\n",
    "            lanes = 1\n",
    "            df2 = df[[3]]\n",
    "        elif len(df.columns) == 19:\n",
    "            print(\"2 Lanes\")\n",
    "            lanes = 2\n",
    "            df2 = df[[3, 12]]\n",
    "        elif len(df.columns) == 28:\n",
    "            print(\"3 Lanes\")\n",
    "            lanes = 3\n",
    "            df2 = df[[3, 12, 21]]\n",
    "        else:\n",
    "            print(\"4 Lanes\")\n",
    "            lanes = 4\n",
    "            df2 = df[[3, 12, 21, 30]]\n",
    "        df2.columns = ['Spd' + repr(x) for x in range(lanes)]\n",
    "        df2['Spd_Max'] = pd.Series(-1, index=df2.index)\n",
    "        df2['Spd_Min'] = pd.Series(-1, index=df2.index)\n",
    "        df2['Spd_Avg'] = pd.Series(-1, index=df2.index)\n",
    "\n",
    "        df2 = df2[~df2.index.duplicated(keep='first')]   #查看index有沒有重複 有重複 刪除重複的index\n",
    "        for i in df2.index:\n",
    "            isDropped = 0\n",
    "            zero_count = 0\n",
    "            for x in df2.columns:\n",
    "                try:\n",
    "                    if df2.loc[i][x] == -99:\n",
    "                        df2 = df2.drop(i)\n",
    "                        isDropped = 1\n",
    "                        break\n",
    "                except:\n",
    "                    print(df2.loc[i])\n",
    "            if isDropped:\n",
    "                continue\n",
    "            df2.loc[i]['Spd_Max'] = max([x for x in df2.loc[i].values[0:lanes]]) #df2.loc[i].values.max()\n",
    "            try:\n",
    "                df2.loc[i]['Spd_Min'] = min([x for x in df2.loc[i].values[0:lanes] if x != 0]) #df2.loc[i].values.min()\n",
    "                df2.loc[i]['Spd_Avg'] = np.mean([x for x in df2.loc[i].values[0:lanes] if x != 0])\n",
    "            except ValueError:\n",
    "                df2.loc[i]['Spd_Min'] = 0\n",
    "                df2.loc[i]['Spd_Avg'] = 0\n",
    "\n",
    "        vd_df = pd.concat([vd_df, df2])\n",
    "        day += timedelta(days=1)\n",
    "\n",
    "    d1str = day1.strftime(\"%Y%m%d\")\n",
    "    dlaststr = dayLast.strftime(\"%Y%m%d\")\n",
    "    # vd_df = vd_df.drop(vd_df.columns[0:3], axis=1)\n",
    "    if not os.path.exists(\"vd_speed/\"):\n",
    "        os.makedirs(\"vd_speed/\")\n",
    "    vd_df.to_csv(\"vd_speed/\" + \"vdspd_\" + d1str + \"_\" + dlaststr + \".csv\")"
   ]
  },
  {
   "cell_type": "code",
   "execution_count": null,
   "metadata": {},
   "outputs": [],
   "source": []
  },
  {
   "cell_type": "code",
   "execution_count": null,
   "metadata": {},
   "outputs": [],
   "source": []
  },
  {
   "cell_type": "code",
   "execution_count": null,
   "metadata": {},
   "outputs": [],
   "source": []
  }
 ],
 "metadata": {
  "kernelspec": {
   "display_name": "Python 3",
   "language": "python",
   "name": "python3"
  },
  "varInspector": {
   "cols": {
    "lenName": 16,
    "lenType": 16,
    "lenVar": 40
   },
   "kernels_config": {
    "python": {
     "delete_cmd_postfix": "",
     "delete_cmd_prefix": "del ",
     "library": "var_list.py",
     "varRefreshCmd": "print(var_dic_list())"
    },
    "r": {
     "delete_cmd_postfix": ") ",
     "delete_cmd_prefix": "rm(",
     "library": "var_list.r",
     "varRefreshCmd": "cat(var_dic_list()) "
    }
   },
   "types_to_exclude": [
    "module",
    "function",
    "builtin_function_or_method",
    "instance",
    "_Feature"
   ],
   "window_display": false
  }
 },
 "nbformat": 4,
 "nbformat_minor": 2
}
